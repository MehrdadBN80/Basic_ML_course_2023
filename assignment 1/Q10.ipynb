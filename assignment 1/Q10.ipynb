{
 "cells": [
  {
   "cell_type": "markdown",
   "id": "501e36a8",
   "metadata": {},
   "source": [
    "# Goal\n"
   ]
  },
  {
   "cell_type": "markdown",
   "id": "53008b35",
   "metadata": {},
   "source": [
    "### Implement Forward and Backward Feature selection algorithms from scratch with MSE as the\n",
    "### metric."
   ]
  },
  {
   "cell_type": "markdown",
   "id": "46e69cce",
   "metadata": {},
   "source": [
    "# Tools"
   ]
  },
  {
   "cell_type": "code",
   "execution_count": 1,
   "id": "7c242b82",
   "metadata": {},
   "outputs": [],
   "source": [
    "import numpy as np\n",
    "import pandas as pd\n",
    "import matplotlib.pyplot as plt\n",
    "from sklearn.linear_model import LinearRegression\n",
    "from sklearn.metrics import mean_squared_error\n",
    "from sklearn.model_selection import train_test_split\n",
    "from sklearn.model_selection import KFold\n",
    "from sklearn.datasets import load_diabetes"
   ]
  },
  {
   "cell_type": "markdown",
   "id": "79911750",
   "metadata": {},
   "source": [
    "# Loading dataset"
   ]
  },
  {
   "cell_type": "code",
   "execution_count": 2,
   "id": "0db18129",
   "metadata": {},
   "outputs": [],
   "source": [
    "diabetes = load_diabetes()"
   ]
  },
  {
   "cell_type": "code",
   "execution_count": 3,
   "id": "bd957dc8",
   "metadata": {},
   "outputs": [
    {
     "data": {
      "text/plain": [
       "dict_keys(['data', 'target', 'frame', 'DESCR', 'feature_names', 'data_filename', 'target_filename'])"
      ]
     },
     "execution_count": 3,
     "metadata": {},
     "output_type": "execute_result"
    }
   ],
   "source": [
    "diabetes.keys()"
   ]
  },
  {
   "cell_type": "code",
   "execution_count": 4,
   "id": "938fece3",
   "metadata": {},
   "outputs": [
    {
     "data": {
      "text/plain": [
       "['age', 'sex', 'bmi', 'bp', 's1', 's2', 's3', 's4', 's5', 's6']"
      ]
     },
     "execution_count": 4,
     "metadata": {},
     "output_type": "execute_result"
    }
   ],
   "source": [
    "diabetes['feature_names']"
   ]
  },
  {
   "cell_type": "code",
   "execution_count": 5,
   "id": "95c6054c",
   "metadata": {},
   "outputs": [],
   "source": [
    "X = diabetes.data\n",
    "y = diabetes.target"
   ]
  },
  {
   "cell_type": "code",
   "execution_count": 6,
   "id": "a2833cd5",
   "metadata": {},
   "outputs": [
    {
     "data": {
      "text/plain": [
       "array([151.,  75., 141., 206., 135.,  97., 138.,  63., 110., 310., 101.,\n",
       "        69., 179., 185., 118., 171., 166., 144.,  97., 168.,  68.,  49.,\n",
       "        68., 245., 184., 202., 137.,  85., 131., 283., 129.,  59., 341.,\n",
       "        87.,  65., 102., 265., 276., 252.,  90., 100.,  55.,  61.,  92.,\n",
       "       259.,  53., 190., 142.,  75., 142., 155., 225.,  59., 104., 182.,\n",
       "       128.,  52.,  37., 170., 170.,  61., 144.,  52., 128.,  71., 163.,\n",
       "       150.,  97., 160., 178.,  48., 270., 202., 111.,  85.,  42., 170.,\n",
       "       200., 252., 113., 143.,  51.,  52., 210.,  65., 141.,  55., 134.,\n",
       "        42., 111.,  98., 164.,  48.,  96.,  90., 162., 150., 279.,  92.,\n",
       "        83., 128., 102., 302., 198.,  95.,  53., 134., 144., 232.,  81.,\n",
       "       104.,  59., 246., 297., 258., 229., 275., 281., 179., 200., 200.,\n",
       "       173., 180.,  84., 121., 161.,  99., 109., 115., 268., 274., 158.,\n",
       "       107.,  83., 103., 272.,  85., 280., 336., 281., 118., 317., 235.,\n",
       "        60., 174., 259., 178., 128.,  96., 126., 288.,  88., 292.,  71.,\n",
       "       197., 186.,  25.,  84.,  96., 195.,  53., 217., 172., 131., 214.,\n",
       "        59.,  70., 220., 268., 152.,  47.,  74., 295., 101., 151., 127.,\n",
       "       237., 225.,  81., 151., 107.,  64., 138., 185., 265., 101., 137.,\n",
       "       143., 141.,  79., 292., 178.,  91., 116.,  86., 122.,  72., 129.,\n",
       "       142.,  90., 158.,  39., 196., 222., 277.,  99., 196., 202., 155.,\n",
       "        77., 191.,  70.,  73.,  49.,  65., 263., 248., 296., 214., 185.,\n",
       "        78.,  93., 252., 150.,  77., 208.,  77., 108., 160.,  53., 220.,\n",
       "       154., 259.,  90., 246., 124.,  67.,  72., 257., 262., 275., 177.,\n",
       "        71.,  47., 187., 125.,  78.,  51., 258., 215., 303., 243.,  91.,\n",
       "       150., 310., 153., 346.,  63.,  89.,  50.,  39., 103., 308., 116.,\n",
       "       145.,  74.,  45., 115., 264.,  87., 202., 127., 182., 241.,  66.,\n",
       "        94., 283.,  64., 102., 200., 265.,  94., 230., 181., 156., 233.,\n",
       "        60., 219.,  80.,  68., 332., 248.,  84., 200.,  55.,  85.,  89.,\n",
       "        31., 129.,  83., 275.,  65., 198., 236., 253., 124.,  44., 172.,\n",
       "       114., 142., 109., 180., 144., 163., 147.,  97., 220., 190., 109.,\n",
       "       191., 122., 230., 242., 248., 249., 192., 131., 237.,  78., 135.,\n",
       "       244., 199., 270., 164.,  72.,  96., 306.,  91., 214.,  95., 216.,\n",
       "       263., 178., 113., 200., 139., 139.,  88., 148.,  88., 243.,  71.,\n",
       "        77., 109., 272.,  60.,  54., 221.,  90., 311., 281., 182., 321.,\n",
       "        58., 262., 206., 233., 242., 123., 167.,  63., 197.,  71., 168.,\n",
       "       140., 217., 121., 235., 245.,  40.,  52., 104., 132.,  88.,  69.,\n",
       "       219.,  72., 201., 110.,  51., 277.,  63., 118.,  69., 273., 258.,\n",
       "        43., 198., 242., 232., 175.,  93., 168., 275., 293., 281.,  72.,\n",
       "       140., 189., 181., 209., 136., 261., 113., 131., 174., 257.,  55.,\n",
       "        84.,  42., 146., 212., 233.,  91., 111., 152., 120.,  67., 310.,\n",
       "        94., 183.,  66., 173.,  72.,  49.,  64.,  48., 178., 104., 132.,\n",
       "       220.,  57.])"
      ]
     },
     "execution_count": 6,
     "metadata": {},
     "output_type": "execute_result"
    }
   ],
   "source": [
    "y"
   ]
  },
  {
   "cell_type": "markdown",
   "id": "47461cb1",
   "metadata": {},
   "source": [
    "# Scaling"
   ]
  },
  {
   "cell_type": "code",
   "execution_count": 7,
   "id": "7c8a41a7",
   "metadata": {},
   "outputs": [],
   "source": [
    "from sklearn.preprocessing import StandardScaler"
   ]
  },
  {
   "cell_type": "code",
   "execution_count": 8,
   "id": "5cfeb721",
   "metadata": {},
   "outputs": [],
   "source": [
    "scaler = StandardScaler()\n",
    "X_norm = scaler.fit_transform(X)\n",
    "x_train_norm = X_norm[:300, :]\n",
    "y_train = y[:300]"
   ]
  },
  {
   "cell_type": "markdown",
   "id": "2f570fa7",
   "metadata": {},
   "source": [
    "# Forward feature selection algorithm"
   ]
  },
  {
   "cell_type": "code",
   "execution_count": 9,
   "id": "b914cc17",
   "metadata": {},
   "outputs": [],
   "source": [
    "def forward_feature_selection(X, y):\n",
    "    n, p = X.shape\n",
    "    selected_features = []\n",
    "    mses = []\n",
    "    best_mse = np.inf\n",
    "    \n",
    "    for i in range(p):\n",
    "        candidate_errors = []\n",
    "        for j in range(p):\n",
    "            if j not in selected_features:\n",
    "                model_features = selected_features + [j]\n",
    "                X_subset = X[:, model_features]\n",
    "                model = np.linalg.lstsq(X_subset, y, rcond=None)[0]\n",
    "                y_pred = X_subset @ model\n",
    "                error = np.mean((y - y_pred) ** 2)\n",
    "                candidate_errors.append((error, j))\n",
    "        \n",
    "        candidate_errors.sort()\n",
    "        best_candidate_error, best_candidate_feature = candidate_errors[0]\n",
    "        mses.append(best_candidate_error)\n",
    "        \n",
    "        if best_candidate_error < best_mse:\n",
    "            selected_features.append(best_candidate_feature)\n",
    "            best_mse = best_candidate_error\n",
    "        else:\n",
    "            break\n",
    "    \n",
    "    plt.plot(range(1, len(selected_features)+1), mses, '-o')\n",
    "    plt.xlabel('Number of Features')\n",
    "    plt.ylabel('MSE')\n",
    "    plt.title('Forward Feature Selection')\n",
    "    plt.show()\n",
    "    \n",
    "    return selected_features, best_mse\n"
   ]
  },
  {
   "cell_type": "markdown",
   "id": "32f1cff6",
   "metadata": {},
   "source": [
    "# Backward feature selection algorithm"
   ]
  },
  {
   "cell_type": "code",
   "execution_count": 10,
   "id": "6585a265",
   "metadata": {},
   "outputs": [],
   "source": [
    "def backward_feature_selection(X, y):\n",
    "    num_features = X.shape[1]\n",
    "    selected_features = list(range(num_features))\n",
    "\n",
    "    mses = []\n",
    "\n",
    "    best_mse = float('inf')\n",
    "    best_features = None\n",
    "\n",
    "    for i in range(num_features):\n",
    "        mse_features = []\n",
    "        for feature in selected_features:\n",
    "            remaining_features = [f for f in selected_features if f != feature]\n",
    "            X_subset = X[:, remaining_features]\n",
    "            mse = np.mean((y - np.dot(X_subset, np.linalg.lstsq(X_subset, y, rcond=None)[0])) ** 2)\n",
    "            mse_features.append(mse)\n",
    "\n",
    "        mse_features = np.array(mse_features)\n",
    "        best_feature = np.argmin(mse_features)\n",
    "        best_mse = mse_features[best_feature]\n",
    "        best_features = selected_features[:best_feature] + selected_features[best_feature+1:]\n",
    "\n",
    "        selected_features = best_features[:]\n",
    "\n",
    "        mses.append(best_mse)\n",
    "\n",
    "    plt.plot(range(num_features, 0, -1), mses[::-1], '-o')\n",
    "    plt.xlabel('Number of Features')\n",
    "    plt.ylabel('MSE')\n",
    "\n",
    "    return best_features, best_mse"
   ]
  },
  {
   "cell_type": "markdown",
   "id": "0eee6d69",
   "metadata": {},
   "source": [
    "# Run forward and backward selection algorithm"
   ]
  },
  {
   "cell_type": "code",
   "execution_count": 11,
   "id": "3506dc1d",
   "metadata": {},
   "outputs": [
    {
     "data": {
      "image/png": "[encoded data removed]",
      "text/plain": [
       "<Figure size 432x288 with 1 Axes>"
      ]
     },
     "metadata": {
      "needs_background": "light"
     },
     "output_type": "display_data"
    },
    {
     "name": "stdout",
     "output_type": "stream",
     "text": [
      "Forward selection: Best features = [2, 8, 4, 3, 1, 5, 6, 0, 7, 9], MSE = 25907.579899784774\n",
      "Backward selection: Best features = [], MSE = 28245.176666666666\n"
     ]
    },
    {
     "data": {
      "image/png": "[encoded data removed]",
      "text/plain": [
       "<Figure size 432x288 with 1 Axes>"
      ]
     },
     "metadata": {
      "needs_background": "light"
     },
     "output_type": "display_data"
    }
   ],
   "source": [
    "selected_features, best_mse = forward_feature_selection(x_train_norm, y_train)\n",
    "print(f\"Forward selection: Best features = {selected_features}, MSE = {best_mse}\")\n",
    "\n",
    "selected_features, best_mse = backward_feature_selection(x_train_norm, y_train)\n",
    "print(f\"Backward selection: Best features = {selected_features}, MSE = {best_mse}\")\n"
   ]
  },
  {
   "cell_type": "code",
   "execution_count": null,
   "id": "8a0a5d5e",
   "metadata": {},
   "outputs": [],
   "source": []
  }
 ],
 "metadata": {
  "kernelspec": {
   "display_name": "Python 3 (ipykernel)",
   "language": "python",
   "name": "python3"
  },
  "language_info": {
   "codemirror_mode": {
    "name": "ipython",
    "version": 3
   },
   "file_extension": ".py",
   "mimetype": "text/x-python",
   "name": "python",
   "nbconvert_exporter": "python",
   "pygments_lexer": "ipython3",
   "version": "3.9.7"
  }
 },
 "nbformat": 4,
 "nbformat_minor": 5
}
